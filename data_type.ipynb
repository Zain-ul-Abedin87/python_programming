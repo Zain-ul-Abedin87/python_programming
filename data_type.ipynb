{
 "cells": [
  {
   "cell_type": "markdown",
   "metadata": {},
   "source": [
    "data types in python \n",
    "int, float, str, bool, list, tuple, set, dict\n",
    "int     -> Integer :  Whole numbers like 1, 2, -5\n",
    "float   -> Floating point number : Decimal numbers like 1.5, 3.14, -2.71828\n",
    "str     -> String : Sequence of characters enclosed in single quotes or double quotes\n",
    "bool    -> Boolean : True or False\n",
    "list    -> List : Collection of items enclosed in square brackets []\n",
    "tuple   -> Tuple : Collection of items enclosed in parentheses () , an immutable collection of items\n",
    "dict    -> Dictionary : (Dictionary): A key-value pair like {\"name\": \"Zain\", \"age\": 25}\n",
    "set     -> Set : (Set): A collection of unique items enclosed in curly brackets {}"
   ]
  },
  {
   "cell_type": "markdown",
   "metadata": {},
   "source": [
    "List (list )\n",
    "A list is an ordered, mutable (changeable) collection that can store multiple items of different data types\n",
    "key Features\n",
    "- Allows duplicate values\n",
    "- Allows indexing and slicing\n",
    "- Supports nested lists\n",
    "- Mutable (you can change, add, or remove elements)\n"
   ]
  },
  {
   "cell_type": "code",
   "execution_count": 19,
   "metadata": {},
   "outputs": [
    {
     "name": "stdout",
     "output_type": "stream",
     "text": [
      "[1, 'helo', 3.14, 'zain', True]\n",
      "[1, 'helo', 3.14, 'zain', True, 'new_element']\n",
      "[1, 3.14, 'zain', True, 'new_element']\n",
      "5\n",
      "2\n",
      "1\n",
      "new_element\n",
      "[3.14]\n",
      "[1, 3.14, 'new_value', True, 'new_element']\n",
      "[1, 3.14, 'new_value', 'new_element']\n",
      "False\n",
      "[1, 3.14, 'new_element at index 2', 'new_value', 'new_element']\n",
      "[1, 3.14, 'new_element at index 2', 'new_value', 'new_element']\n",
      "[1, 3.14, 'new_element at index 2', 'new_value', 'new_element', 1, 3.14, 'new_element at index 2', 'new_value', 'new_element']\n",
      "['new_element', 'new_value', 'new_element at index 2', 3.14, 1]\n",
      "[1, 3.14, 'new_value', 'new_element at index 2', 'new_element']\n",
      "[]\n"
     ]
    }
   ],
   "source": [
    "#create a new list \n",
    "my_list = [1, \"helo\",3.14,\"zain\",True]\n",
    "print(my_list)\n",
    "\n",
    "#add an element to the list\n",
    "my_list.append(\"new_element\") #add element to the end of the list\n",
    "print(my_list)\n",
    "\n",
    "#remove an element from the list    \n",
    "my_list.remove(\"helo\") #remove element from the list\n",
    "print(my_list)  \n",
    "#get the length of the list \n",
    "print(len(my_list))\n",
    "\n",
    "#get the index of an element in the list\n",
    "print(my_list.index(\"zain\"))\n",
    "\n",
    "#get the first element of the list  \n",
    "print(my_list[0])\n",
    "\n",
    "#get the last element of the list       \n",
    "print(my_list[-1])\n",
    "\n",
    "#get a sublist from the list\n",
    "print(my_list[1:2]) #slice from index 1 up to (but not including) index 2\n",
    "\n",
    "#update an element in the list\n",
    "my_list[2] = \"new_value\"\n",
    "print(my_list)\n",
    "\n",
    "#delete an element from the list\n",
    "del my_list[3]\n",
    "print(my_list)\n",
    "\n",
    "#check if an element exists in the list\n",
    "print(\"zain\" in my_list)\n",
    "#insert an element at a specific index\n",
    "my_list.insert(2, \"new_element at index 2\")\n",
    "print(my_list)\n",
    "\n",
    "\n",
    "#copy a list\n",
    "new_list = my_list.copy()\n",
    "print(new_list)\n",
    "\n",
    "#concatenate two lists\n",
    "combined_list = my_list + new_list\n",
    "print(combined_list)\n",
    "\n",
    "\n",
    "#reverse the list\n",
    "my_list.reverse()\n",
    "print(my_list)\n",
    "\n",
    "#remove duplicates from the list    \n",
    "my_list = list(set(my_list))\n",
    "print(my_list)\n",
    "\n",
    "#remove all elements from the list\n",
    "my_list.clear()\n",
    "print(my_list)"
   ]
  },
  {
   "cell_type": "markdown",
   "metadata": {},
   "source": []
  }
 ],
 "metadata": {
  "kernelspec": {
   "display_name": "Python 3",
   "language": "python",
   "name": "python3"
  },
  "language_info": {
   "codemirror_mode": {
    "name": "ipython",
    "version": 3
   },
   "file_extension": ".py",
   "mimetype": "text/x-python",
   "name": "python",
   "nbconvert_exporter": "python",
   "pygments_lexer": "ipython3",
   "version": "3.9.6"
  }
 },
 "nbformat": 4,
 "nbformat_minor": 2
}
